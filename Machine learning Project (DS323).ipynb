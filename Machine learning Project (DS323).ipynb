{
 "cells": [
  {
   "cell_type": "markdown",
   "id": "f73463ce",
   "metadata": {},
   "source": [
    "# Load the dataset & Overview for the dataset"
   ]
  },
  {
   "cell_type": "code",
   "execution_count": 132,
   "id": "ab8dc0ef",
   "metadata": {},
   "outputs": [
    {
     "data": {
      "text/html": [
       "<div>\n",
       "<style scoped>\n",
       "    .dataframe tbody tr th:only-of-type {\n",
       "        vertical-align: middle;\n",
       "    }\n",
       "\n",
       "    .dataframe tbody tr th {\n",
       "        vertical-align: top;\n",
       "    }\n",
       "\n",
       "    .dataframe thead th {\n",
       "        text-align: right;\n",
       "    }\n",
       "</style>\n",
       "<table border=\"1\" class=\"dataframe\">\n",
       "  <thead>\n",
       "    <tr style=\"text-align: right;\">\n",
       "      <th></th>\n",
       "      <th>Asteroid_ID</th>\n",
       "      <th>Est_Diameter_Min</th>\n",
       "      <th>Est_Diameter_Max</th>\n",
       "      <th>Relative_Velocity</th>\n",
       "      <th>Miss_Distance</th>\n",
       "      <th>Absolute_Magnitude</th>\n",
       "      <th>Orbit_ID</th>\n",
       "      <th>Orbit_Uncertainty</th>\n",
       "      <th>Hazardous</th>\n",
       "    </tr>\n",
       "  </thead>\n",
       "  <tbody>\n",
       "    <tr>\n",
       "      <th>0</th>\n",
       "      <td>2001566</td>\n",
       "      <td>1.427431</td>\n",
       "      <td>3.191832</td>\n",
       "      <td>76768.627248</td>\n",
       "      <td>5.188275e+07</td>\n",
       "      <td>16.35</td>\n",
       "      <td>102</td>\n",
       "      <td>0</td>\n",
       "      <td>True</td>\n",
       "    </tr>\n",
       "    <tr>\n",
       "      <th>1</th>\n",
       "      <td>2001862</td>\n",
       "      <td>1.594245</td>\n",
       "      <td>3.564839</td>\n",
       "      <td>54823.840852</td>\n",
       "      <td>1.125665e+07</td>\n",
       "      <td>16.11</td>\n",
       "      <td>285</td>\n",
       "      <td>0</td>\n",
       "      <td>True</td>\n",
       "    </tr>\n",
       "    <tr>\n",
       "      <th>2</th>\n",
       "      <td>2002063</td>\n",
       "      <td>0.930154</td>\n",
       "      <td>2.079888</td>\n",
       "      <td>34486.040716</td>\n",
       "      <td>1.819842e+07</td>\n",
       "      <td>17.28</td>\n",
       "      <td>115</td>\n",
       "      <td>0</td>\n",
       "      <td>False</td>\n",
       "    </tr>\n",
       "    <tr>\n",
       "      <th>3</th>\n",
       "      <td>2002100</td>\n",
       "      <td>1.508534</td>\n",
       "      <td>3.373184</td>\n",
       "      <td>52325.453650</td>\n",
       "      <td>6.817844e+07</td>\n",
       "      <td>16.23</td>\n",
       "      <td>182</td>\n",
       "      <td>0</td>\n",
       "      <td>False</td>\n",
       "    </tr>\n",
       "    <tr>\n",
       "      <th>4</th>\n",
       "      <td>2002340</td>\n",
       "      <td>0.228326</td>\n",
       "      <td>0.510552</td>\n",
       "      <td>74004.471912</td>\n",
       "      <td>3.818712e+07</td>\n",
       "      <td>20.33</td>\n",
       "      <td>60</td>\n",
       "      <td>0</td>\n",
       "      <td>True</td>\n",
       "    </tr>\n",
       "    <tr>\n",
       "      <th>5</th>\n",
       "      <td>2003361</td>\n",
       "      <td>0.352010</td>\n",
       "      <td>0.787118</td>\n",
       "      <td>17669.177336</td>\n",
       "      <td>4.351090e+07</td>\n",
       "      <td>19.39</td>\n",
       "      <td>96</td>\n",
       "      <td>0</td>\n",
       "      <td>True</td>\n",
       "    </tr>\n",
       "  </tbody>\n",
       "</table>\n",
       "</div>"
      ],
      "text/plain": [
       "   Asteroid_ID  Est_Diameter_Min  Est_Diameter_Max  Relative_Velocity  \\\n",
       "0      2001566          1.427431          3.191832       76768.627248   \n",
       "1      2001862          1.594245          3.564839       54823.840852   \n",
       "2      2002063          0.930154          2.079888       34486.040716   \n",
       "3      2002100          1.508534          3.373184       52325.453650   \n",
       "4      2002340          0.228326          0.510552       74004.471912   \n",
       "5      2003361          0.352010          0.787118       17669.177336   \n",
       "\n",
       "   Miss_Distance  Absolute_Magnitude  Orbit_ID  Orbit_Uncertainty  Hazardous  \n",
       "0   5.188275e+07               16.35       102                  0       True  \n",
       "1   1.125665e+07               16.11       285                  0       True  \n",
       "2   1.819842e+07               17.28       115                  0      False  \n",
       "3   6.817844e+07               16.23       182                  0      False  \n",
       "4   3.818712e+07               20.33        60                  0       True  \n",
       "5   4.351090e+07               19.39        96                  0       True  "
      ]
     },
     "execution_count": 132,
     "metadata": {},
     "output_type": "execute_result"
    }
   ],
   "source": [
    "#Firstly, we will start by taking a look at our dataset.\n",
    "#we will import pandas library so we can read the data.\n",
    "import pandas as pd\n",
    "#Now we will read the data and store it in a variable called NasaDataSet.\n",
    "NasaDataSet = pd.read_csv('finalCopyyyyy.csv') \n",
    "#Now we will take a look about the Six rows by calling head function.\n",
    "NasaDataSet.head(6)"
   ]
  },
  {
   "cell_type": "raw",
   "id": "50e07862",
   "metadata": {},
   "source": [
    "Hazardous: Target class (True or False ) , True:hazard , False:not hazard."
   ]
  },
  {
   "cell_type": "code",
   "execution_count": 133,
   "id": "bbea39f3",
   "metadata": {},
   "outputs": [
    {
     "data": {
      "text/plain": [
       "(1182, 9)"
      ]
     },
     "execution_count": 133,
     "metadata": {},
     "output_type": "execute_result"
    }
   ],
   "source": [
    "#In shape function it will show us two paramerts, the first parameter will be the number of rows\n",
    "#And in the second parameter will give us the number of columns \n",
    "NasaDataSet.shape"
   ]
  },
  {
   "cell_type": "code",
   "execution_count": 134,
   "id": "955dc29c",
   "metadata": {},
   "outputs": [
    {
     "data": {
      "text/plain": [
       "False    672\n",
       "True     510\n",
       "Name: Hazardous, dtype: int64"
      ]
     },
     "execution_count": 134,
     "metadata": {},
     "output_type": "execute_result"
    }
   ],
   "source": [
    "#Using the count function, we can specify the target class to calculate the number of true and false values\n",
    "#helping us determine if our dataset is imbalanced or not. :)\n",
    "NasaDataSet['Hazardous'].value_counts()"
   ]
  },
  {
   "cell_type": "markdown",
   "id": "1aab7b13",
   "metadata": {},
   "source": [
    "Based on this outcome, it's evident that the number of false instances exceeds the true ones, indicating an imbalanced dataset. Consequently, relying on accuracy as an evaluation metric may not provide accurate results, given the dataset's bias."
   ]
  },
  {
   "cell_type": "markdown",
   "id": "78a9b6c5",
   "metadata": {},
   "source": [
    "# EDA & Preprocessing "
   ]
  },
  {
   "cell_type": "code",
   "execution_count": 136,
   "id": "7ccf58ee",
   "metadata": {},
   "outputs": [
    {
     "name": "stdout",
     "output_type": "stream",
     "text": [
      "\n"
     ]
    },
    {
     "data": {
      "image/png": "[encoded data removed]",
      "text/plain": [
       "<Figure size 432x288 with 1 Axes>"
      ]
     },
     "metadata": {
      "needs_background": "light"
     },
     "output_type": "display_data"
    },
    {
     "name": "stdout",
     "output_type": "stream",
     "text": [
      "\n"
     ]
    },
    {
     "data": {
      "image/png": "[encoded data removed]",
      "text/plain": [
       "<Figure size 432x288 with 1 Axes>"
      ]
     },
     "metadata": {
      "needs_background": "light"
     },
     "output_type": "display_data"
    },
    {
     "name": "stdout",
     "output_type": "stream",
     "text": [
      "\n"
     ]
    },
    {
     "data": {
      "image/png": "[encoded data removed]",
      "text/plain": [
       "<Figure size 432x288 with 1 Axes>"
      ]
     },
     "metadata": {
      "needs_background": "light"
     },
     "output_type": "display_data"
    },
    {
     "name": "stdout",
     "output_type": "stream",
     "text": [
      "\n"
     ]
    },
    {
     "data": {
      "image/png": "[encoded data removed]",
      "text/plain": [
       "<Figure size 432x288 with 1 Axes>"
      ]
     },
     "metadata": {
      "needs_background": "light"
     },
     "output_type": "display_data"
    },
    {
     "name": "stdout",
     "output_type": "stream",
     "text": [
      "\n"
     ]
    },
    {
     "data": {
      "image/png": "[encoded data removed]",
      "text/plain": [
       "<Figure size 432x288 with 1 Axes>"
      ]
     },
     "metadata": {
      "needs_background": "light"
     },
     "output_type": "display_data"
    },
    {
     "name": "stdout",
     "output_type": "stream",
     "text": [
      "\n"
     ]
    },
    {
     "data": {
      "image/png": "[encoded data removed]",
      "text/plain": [
       "<Figure size 432x288 with 1 Axes>"
      ]
     },
     "metadata": {
      "needs_background": "light"
     },
     "output_type": "display_data"
    },
    {
     "name": "stdout",
     "output_type": "stream",
     "text": [
      "\n"
     ]
    },
    {
     "data": {
      "image/png": "[encoded data removed]",
      "text/plain": [
       "<Figure size 432x288 with 1 Axes>"
      ]
     },
     "metadata": {
      "needs_background": "light"
     },
     "output_type": "display_data"
    },
    {
     "name": "stdout",
     "output_type": "stream",
     "text": [
      "\n"
     ]
    },
    {
     "data": {
      "image/png": "[encoded data removed]",
      "text/plain": [
       "<Figure size 432x288 with 1 Axes>"
      ]
     },
     "metadata": {
      "needs_background": "light"
     },
     "output_type": "display_data"
    }
   ],
   "source": [
    "#Now we will do some visualization to see if our dataset in good quality or need some preprocessing!\n",
    "#Firstly, we will create boxplots for each feature to identify any potential outliers in the dataset.\n",
    "import matplotlib.pyplot as plt\n",
    "import seaborn as sns\n",
    "columns = ['Asteroid_ID', 'Est_Diameter_Min', 'Est_Diameter_Max', 'Relative_Velocity', 'Miss_Distance', 'Absolute_Magnitude','Orbit_ID', 'Orbit_Uncertainty']\n",
    "for i in columns: \n",
    "    print(\"\")\n",
    "    # Plotting the boxplot for each variable\n",
    "    ax = sns.boxplot(y=NasaDataSet[i])\n",
    "    plt.show()"
   ]
  },
  {
   "cell_type": "markdown",
   "id": "b8e77cad",
   "metadata": {},
   "source": [
    "From the boxplot analysis, it's evident that outliers exist in certain features. For instance, in the Est_Diameter_Min feature, there is a data point significantly distant from the others. This visualization highlights the presence of outliers in some features, indicating a need to address this issue. :)"
   ]
  },
  {
   "cell_type": "code",
   "execution_count": 138,
   "id": "1d963206",
   "metadata": {},
   "outputs": [
    {
     "name": "stdout",
     "output_type": "stream",
     "text": [
      "Original DataSet Shape: (1182, 9)\n",
      "DataSet Shape after Removing Outliers: (1017, 9)\n"
     ]
    }
   ],
   "source": [
    "#Now we will remove the outliers from the columns that have outliers\n",
    "import numpy as np\n",
    "df = pd.DataFrame(NasaDataSet)\n",
    "columns1 = ['Est_Diameter_Min', 'Est_Diameter_Max', 'Relative_Velocity', 'Absolute_Magnitude','Orbit_ID']\n",
    "def remove_outliers(df, columns1):\n",
    "    no_outliers = df.copy()\n",
    "    for col in columns1:\n",
    "        Q1 = df[col].quantile(0.25)\n",
    "        Q3 = df[col].quantile(0.75)\n",
    "        IQR = Q3 - Q1\n",
    "        lower_limit = Q1 - 1.5 * IQR\n",
    "        upper_limit = Q3 + 1.5 * IQR\n",
    "        no_outliers = no_outliers[(no_outliers[col] > lower_limit) & (no_outliers[col] < upper_limit)]\n",
    "    return no_outliers\n",
    "\n",
    "columns_to_filter = ['Est_Diameter_Min', 'Est_Diameter_Max', 'Relative_Velocity', 'Absolute_Magnitude','Orbit_ID']\n",
    "no_outliers = remove_outliers(NasaDataSet, columns_to_filter)\n",
    "\n",
    "print(\"Original DataSet Shape:\", NasaDataSet.shape)\n",
    "print(\"DataSet Shape after Removing Outliers:\", no_outliers.shape)"
   ]
  },
  {
   "cell_type": "code",
   "execution_count": 139,
   "id": "fb67b77e",
   "metadata": {},
   "outputs": [
    {
     "name": "stdout",
     "output_type": "stream",
     "text": [
      "\n"
     ]
    },
    {
     "data": {
      "image/png": "[encoded data removed]",
      "text/plain": [
       "<Figure size 432x288 with 1 Axes>"
      ]
     },
     "metadata": {
      "needs_background": "light"
     },
     "output_type": "display_data"
    },
    {
     "name": "stdout",
     "output_type": "stream",
     "text": [
      "\n"
     ]
    },
    {
     "data": {
      "image/png": "[encoded data removed]",
      "text/plain": [
       "<Figure size 432x288 with 1 Axes>"
      ]
     },
     "metadata": {
      "needs_background": "light"
     },
     "output_type": "display_data"
    },
    {
     "name": "stdout",
     "output_type": "stream",
     "text": [
      "\n"
     ]
    },
    {
     "data": {
      "image/png": "[encoded data removed]",
      "text/plain": [
       "<Figure size 432x288 with 1 Axes>"
      ]
     },
     "metadata": {
      "needs_background": "light"
     },
     "output_type": "display_data"
    },
    {
     "name": "stdout",
     "output_type": "stream",
     "text": [
      "\n"
     ]
    },
    {
     "data": {
      "image/png": "[encoded data removed]",
      "text/plain": [
       "<Figure size 432x288 with 1 Axes>"
      ]
     },
     "metadata": {
      "needs_background": "light"
     },
     "output_type": "display_data"
    },
    {
     "name": "stdout",
     "output_type": "stream",
     "text": [
      "\n"
     ]
    },
    {
     "data": {
      "image/png": "[encoded data removed]",
      "text/plain": [
       "<Figure size 432x288 with 1 Axes>"
      ]
     },
     "metadata": {
      "needs_background": "light"
     },
     "output_type": "display_data"
    },
    {
     "name": "stdout",
     "output_type": "stream",
     "text": [
      "\n"
     ]
    },
    {
     "data": {
      "image/png": "[encoded data removed]",
      "text/plain": [
       "<Figure size 432x288 with 1 Axes>"
      ]
     },
     "metadata": {
      "needs_background": "light"
     },
     "output_type": "display_data"
    },
    {
     "name": "stdout",
     "output_type": "stream",
     "text": [
      "\n"
     ]
    },
    {
     "data": {
      "image/png": "[encoded data removed]",
      "text/plain": [
       "<Figure size 432x288 with 1 Axes>"
      ]
     },
     "metadata": {
      "needs_background": "light"
     },
     "output_type": "display_data"
    },
    {
     "name": "stdout",
     "output_type": "stream",
     "text": [
      "\n"
     ]
    },
    {
     "data": {
      "image/png": "[encoded data removed]",
      "text/plain": [
       "<Figure size 432x288 with 1 Axes>"
      ]
     },
     "metadata": {
      "needs_background": "light"
     },
     "output_type": "display_data"
    }
   ],
   "source": [
    "#Now we will see the boxblot after removing the outliers :)\n",
    "for i in columns: \n",
    "    print(\"\")\n",
    "    # Plotting the boxplot for each variable\n",
    "    ax = sns.boxplot(y=no_outliers[i])\n",
    "    plt.show()"
   ]
  },
  {
   "cell_type": "markdown",
   "id": "4fe244f2",
   "metadata": {},
   "source": [
    "Now, comparing the dataset before and after addressing the outliers, we can confirm that the issue has been resolved. :D"
   ]
  },
  {
   "cell_type": "code",
   "execution_count": 141,
   "id": "22368ff0",
   "metadata": {},
   "outputs": [
    {
     "data": {
      "text/plain": [
       "False    598\n",
       "True     419\n",
       "Name: Hazardous, dtype: int64"
      ]
     },
     "execution_count": 141,
     "metadata": {},
     "output_type": "execute_result"
    }
   ],
   "source": [
    "#Check the number of true and false after removing the outliers\n",
    "no_outliers['Hazardous'].value_counts()"
   ]
  },
  {
   "cell_type": "code",
   "execution_count": 142,
   "id": "00676059",
   "metadata": {},
   "outputs": [
    {
     "name": "stdout",
     "output_type": "stream",
     "text": [
      "The DataSet doesn't have missing values :) \n"
     ]
    }
   ],
   "source": [
    "#Now we will check if our data has missing values or not\n",
    "df = pd.DataFrame(no_outliers)\n",
    "if df.isnull().values.any():\n",
    "    print(\"The DataSet has missing values :( \")\n",
    "else:\n",
    "    print(\"The DataSet doesn't have missing values :) \")"
   ]
  },
  {
   "cell_type": "markdown",
   "id": "a599b167",
   "metadata": {},
   "source": [
    "This means that our data doesn't have any missing values :D"
   ]
  },
  {
   "cell_type": "code",
   "execution_count": 144,
   "id": "71824ac5",
   "metadata": {},
   "outputs": [
    {
     "name": "stdout",
     "output_type": "stream",
     "text": [
      "Number of duplicate rows: 0\n"
     ]
    }
   ],
   "source": [
    "#Now we will ensure that our data doesn't have any duplicate record\n",
    "# Check for duplicate rows\n",
    "duplicates = df.duplicated()\n",
    "# Count the number of duplicate rows\n",
    "num_duplicates = duplicates.sum()\n",
    "# Display the number of duplicate rows\n",
    "print(\"Number of duplicate rows:\", num_duplicates)"
   ]
  },
  {
   "cell_type": "markdown",
   "id": "43e576bd",
   "metadata": {},
   "source": [
    "From the result also we can know that our dataset doesn't have any duplicate rows :D"
   ]
  },
  {
   "cell_type": "markdown",
   "id": "4c45a349",
   "metadata": {},
   "source": [
    "Now that we've cleaned our data and ensured its quality, we can proceed to the crucial step of building our models."
   ]
  },
  {
   "cell_type": "markdown",
   "id": "cc411bbe",
   "metadata": {},
   "source": [
    "# Bulid the four models & Evaluate it with four performance metrics "
   ]
  },
  {
   "cell_type": "code",
   "execution_count": 147,
   "id": "ffc22da2",
   "metadata": {},
   "outputs": [],
   "source": [
    "#Before diving into model building, our initial step is to separate the features into X and the target variable into y.\n",
    "X = no_outliers.iloc[:, :-1].values #meaning that all the feature except the last one because it's the target.\n",
    "y = no_outliers.iloc[:, 8].values #meaning that the last feature since Python indexing starts from 0."
   ]
  },
  {
   "cell_type": "markdown",
   "id": "8430ec73",
   "metadata": {},
   "source": [
    "# 1-AdaBoost \"The Proposed Model\""
   ]
  },
  {
   "cell_type": "code",
   "execution_count": 148,
   "id": "b5cd60e1",
   "metadata": {},
   "outputs": [
    {
     "data": {
      "text/plain": [
       "AdaBoostClassifier()"
      ]
     },
     "execution_count": 148,
     "metadata": {},
     "output_type": "execute_result"
    }
   ],
   "source": [
    "from sklearn.ensemble import AdaBoostClassifier\n",
    "from sklearn.model_selection import train_test_split\n",
    "# Split your data into train and test sets \"we will use 70% as training and 30% as testing\"\n",
    "X_train, X_test, y_train, y_test = train_test_split(X, y, test_size = 0.3, random_state = 42, stratify = y)\n",
    "# Fit AdaBoostClassifier() model with training data\n",
    "AdaBoost_Model = AdaBoostClassifier()\n",
    "AdaBoost_Model.fit(X_train, y_train)"
   ]
  },
  {
   "cell_type": "code",
   "execution_count": 149,
   "id": "fc8d5f1f",
   "metadata": {},
   "outputs": [],
   "source": [
    "# Make predictions for test data\n",
    "y_pred = AdaBoost_Model.predict(X_test)"
   ]
  },
  {
   "cell_type": "markdown",
   "id": "ac8c9399",
   "metadata": {},
   "source": [
    "We will evaluate the performance of the model using precision, recall, f1-Score and ROC-AUC\n",
    "We will not use the accuracy because our data is imbalance and the accuracy will not be accurate for imbalanced\n",
    "dataset"
   ]
  },
  {
   "cell_type": "code",
   "execution_count": 150,
   "id": "eaf589a3",
   "metadata": {},
   "outputs": [
    {
     "name": "stdout",
     "output_type": "stream",
     "text": [
      "-------------------------AdaBoost----------------------\n",
      "Precision: 0.7265625\n",
      "Recall: 0.7380952380952381\n",
      "F1-score: 0.7322834645669293\n",
      "ROC-AUC: 0.7718253968253969\n"
     ]
    }
   ],
   "source": [
    "from sklearn.metrics import precision_score, recall_score, f1_score, roc_auc_score\n",
    "\n",
    "print(\"-------------------------AdaBoost----------------------\")\n",
    "# Calculate precision\n",
    "precision = precision_score(y_test, y_pred)\n",
    "print(\"Precision:\", precision)\n",
    "\n",
    "# Calculate recall\n",
    "recall = recall_score(y_test, y_pred)\n",
    "print(\"Recall:\", recall)\n",
    "\n",
    "# Calculate F1-score\n",
    "f1 = f1_score(y_test, y_pred)\n",
    "print(\"F1-score:\", f1)\n",
    "\n",
    "# Calculate ROC-AUC\n",
    "roc_auc = roc_auc_score(y_test, y_pred)\n",
    "print(\"ROC-AUC:\", roc_auc)"
   ]
  },
  {
   "cell_type": "markdown",
   "id": "01162208",
   "metadata": {},
   "source": [
    "# 2- Logistic Regression \"Baseline number 1\""
   ]
  },
  {
   "cell_type": "code",
   "execution_count": 151,
   "id": "11086ca2",
   "metadata": {},
   "outputs": [
    {
     "data": {
      "text/plain": [
       "LogisticRegression()"
      ]
     },
     "execution_count": 151,
     "metadata": {},
     "output_type": "execute_result"
    }
   ],
   "source": [
    "X_train2, X_test2, y_train2, y_test2 = train_test_split(X, y, test_size=0.3, random_state=42, stratify=y)\n",
    "from sklearn.linear_model import LogisticRegression \n",
    "LogesticRegression_Model = LogisticRegression()\n",
    "LogesticRegression_Model.fit(X_train2, y_train2)"
   ]
  },
  {
   "cell_type": "code",
   "execution_count": 152,
   "id": "48693f7a",
   "metadata": {},
   "outputs": [],
   "source": [
    "# Make predictions for test data\n",
    "y_pred2 = LogesticRegression_Model.predict(X_test2)"
   ]
  },
  {
   "cell_type": "code",
   "execution_count": 153,
   "id": "3f1e3153",
   "metadata": {},
   "outputs": [
    {
     "name": "stdout",
     "output_type": "stream",
     "text": [
      "-------------------------Logestic Regression----------------------\n",
      "Precision: 0.6790123456790124\n",
      "Recall: 0.4365079365079365\n",
      "F1-score: 0.5314009661835749\n",
      "ROC-AUC: 0.6460317460317461\n"
     ]
    }
   ],
   "source": [
    "print(\"-------------------------Logestic Regression----------------------\")\n",
    "# Calculate precision\n",
    "precision2 = precision_score(y_test2, y_pred2)\n",
    "print(\"Precision:\", precision2)\n",
    "\n",
    "# Calculate recall\n",
    "recall2 = recall_score(y_test2, y_pred2)\n",
    "print(\"Recall:\", recall2)\n",
    "\n",
    "# Calculate F1-score\n",
    "f12 = f1_score(y_test2, y_pred2)\n",
    "print(\"F1-score:\", f12)\n",
    "\n",
    "# Calculate ROC-AUC\n",
    "roc_auc2 = roc_auc_score(y_test2, y_pred2)\n",
    "print(\"ROC-AUC:\", roc_auc2)"
   ]
  },
  {
   "cell_type": "markdown",
   "id": "5e53b20a",
   "metadata": {},
   "source": [
    "# 3- Random Forest \"Baseline number 2\""
   ]
  },
  {
   "cell_type": "code",
   "execution_count": 154,
   "id": "f48bc90a",
   "metadata": {},
   "outputs": [
    {
     "data": {
      "text/plain": [
       "RandomForestClassifier()"
      ]
     },
     "execution_count": 154,
     "metadata": {},
     "output_type": "execute_result"
    }
   ],
   "source": [
    "X_train3, X_test3, y_train3, y_test3 = train_test_split(X, y, test_size=0.3, random_state=42, stratify=y)\n",
    "from sklearn.ensemble import RandomForestClassifier\n",
    "RandomForest_Model = RandomForestClassifier()\n",
    "RandomForest_Model.fit(X_train3, y_train3)"
   ]
  },
  {
   "cell_type": "code",
   "execution_count": 155,
   "id": "4392c186",
   "metadata": {},
   "outputs": [],
   "source": [
    "# Make predictions for test data\n",
    "y_pred3 = RandomForest_Model.predict(X_test3)"
   ]
  },
  {
   "cell_type": "code",
   "execution_count": 156,
   "id": "03a2ca5f",
   "metadata": {},
   "outputs": [
    {
     "name": "stdout",
     "output_type": "stream",
     "text": [
      "-------------------------Random Forest----------------------\n",
      "Precision: 0.7021276595744681\n",
      "Recall: 0.7857142857142857\n",
      "F1-score: 0.7415730337078651\n",
      "ROC-AUC: 0.7761904761904761\n"
     ]
    }
   ],
   "source": [
    "print(\"-------------------------Random Forest----------------------\")\n",
    "# Calculate precision\n",
    "precision3 = precision_score(y_test3, y_pred3)\n",
    "print(\"Precision:\", precision3)\n",
    "\n",
    "# Calculate recall\n",
    "recall3 = recall_score(y_test3, y_pred3)\n",
    "print(\"Recall:\", recall3)\n",
    "\n",
    "# Calculate F1-score\n",
    "f13 = f1_score(y_test3, y_pred3)\n",
    "print(\"F1-score:\", f13)\n",
    "\n",
    "# Calculate ROC-AUC\n",
    "roc_auc3 = roc_auc_score(y_test3, y_pred3)\n",
    "print(\"ROC-AUC:\", roc_auc3)"
   ]
  },
  {
   "cell_type": "markdown",
   "id": "1732b2db",
   "metadata": {},
   "source": [
    "# 4- Decision Tree \"Baseline number 3\""
   ]
  },
  {
   "cell_type": "code",
   "execution_count": 157,
   "id": "c6b95f71",
   "metadata": {},
   "outputs": [
    {
     "data": {
      "text/plain": [
       "DecisionTreeClassifier()"
      ]
     },
     "execution_count": 157,
     "metadata": {},
     "output_type": "execute_result"
    }
   ],
   "source": [
    "#The fourth model \"Baseline number 3\": Decision Tree:\n",
    "X_train4, X_test4, y_train4, y_test4 = train_test_split(X, y, test_size=0.3, random_state=42, stratify=y)\n",
    "from sklearn.tree import DecisionTreeClassifier\n",
    "DecisionTree_Model = DecisionTreeClassifier()\n",
    "DecisionTree_Model.fit(X_train4, y_train4)"
   ]
  },
  {
   "cell_type": "code",
   "execution_count": 158,
   "id": "772d6e42",
   "metadata": {},
   "outputs": [],
   "source": [
    "# Make predictions for test data\n",
    "y_pred4 = DecisionTree_Model.predict(X_test4)"
   ]
  },
  {
   "cell_type": "code",
   "execution_count": 159,
   "id": "7b38c53f",
   "metadata": {},
   "outputs": [
    {
     "name": "stdout",
     "output_type": "stream",
     "text": [
      "-------------------------Decision Tree----------------------\n",
      "Precision: 0.7\n",
      "Recall: 0.6666666666666666\n",
      "F1-score: 0.6829268292682926\n",
      "ROC-AUC: 0.7333333333333333\n"
     ]
    }
   ],
   "source": [
    "print(\"-------------------------Decision Tree----------------------\")\n",
    "# Calculate precision\n",
    "precision4 = precision_score(y_test4, y_pred4)\n",
    "print(\"Precision:\", precision4)\n",
    "\n",
    "# Calculate recall\n",
    "recall4 = recall_score(y_test4, y_pred4)\n",
    "print(\"Recall:\", recall4)\n",
    "\n",
    "# Calculate F1-score\n",
    "f14 = f1_score(y_test4, y_pred4)\n",
    "print(\"F1-score:\", f14)\n",
    "\n",
    "# Calculate ROC-AUC\n",
    "roc_auc4 = roc_auc_score(y_test4, y_pred4)\n",
    "print(\"ROC-AUC:\", roc_auc4)"
   ]
  },
  {
   "cell_type": "markdown",
   "id": "4641e18d",
   "metadata": {},
   "source": [
    "# Apply the StandardScaler and rebulid the models: "
   ]
  },
  {
   "cell_type": "markdown",
   "id": "a2af69fc",
   "metadata": {},
   "source": [
    "After experimenting with various preprocessing methods, StandardScaler yielded the most favorable outcomes."
   ]
  },
  {
   "cell_type": "markdown",
   "id": "7785e12e",
   "metadata": {},
   "source": [
    "# 1-AdaBoost \"The Proposed Model\""
   ]
  },
  {
   "cell_type": "code",
   "execution_count": 160,
   "id": "5c1dcda9",
   "metadata": {},
   "outputs": [],
   "source": [
    "from sklearn import preprocessing\n",
    "s_scaler = preprocessing.StandardScaler()\n",
    "X_s = s_scaler.fit_transform(X)"
   ]
  },
  {
   "cell_type": "code",
   "execution_count": 161,
   "id": "d39c11d3",
   "metadata": {},
   "outputs": [],
   "source": [
    "X_train11, X_test11, y_train11, y_test11 = train_test_split(X_s,y, test_size = 0.3, random_state = 42, stratify = y)"
   ]
  },
  {
   "cell_type": "code",
   "execution_count": 162,
   "id": "3ecb4a3e",
   "metadata": {},
   "outputs": [
    {
     "data": {
      "text/plain": [
       "AdaBoostClassifier()"
      ]
     },
     "execution_count": 162,
     "metadata": {},
     "output_type": "execute_result"
    }
   ],
   "source": [
    "AdaBoost_Model11 = AdaBoostClassifier()\n",
    "AdaBoost_Model11.fit(X_train11, y_train11)"
   ]
  },
  {
   "cell_type": "code",
   "execution_count": 163,
   "id": "a35d6656",
   "metadata": {},
   "outputs": [],
   "source": [
    "y_pred11 = AdaBoost_Model11.predict(X_test11)"
   ]
  },
  {
   "cell_type": "code",
   "execution_count": 174,
   "id": "c904fdb2",
   "metadata": {},
   "outputs": [
    {
     "name": "stdout",
     "output_type": "stream",
     "text": [
      "-------------------------AdaBoost After Standard Scaler----------------------\n",
      "Precision: 0.7265625\n",
      "Recall: 0.7380952380952381\n",
      "F1-score: 0.7322834645669293\n",
      "ROC-AUC: 0.7718253968253969\n"
     ]
    }
   ],
   "source": [
    "from sklearn.metrics import precision_score, recall_score, f1_score, roc_auc_score\n",
    "\n",
    "print(\"-------------------------AdaBoost After Standard Scaler----------------------\")\n",
    "# Calculate precision\n",
    "precision11 = precision_score(y_test11, y_pred11)\n",
    "print(\"Precision:\", precision11)\n",
    "\n",
    "# Calculate recall\n",
    "recall11 = recall_score(y_test11, y_pred11)\n",
    "print(\"Recall:\", recall)\n",
    "\n",
    "# Calculate F1-score\n",
    "f111 = f1_score(y_test11, y_pred11)\n",
    "print(\"F1-score:\", f111)\n",
    "\n",
    "# Calculate ROC-AUC\n",
    "roc_auc11 = roc_auc_score(y_test11, y_pred11)\n",
    "print(\"ROC-AUC:\", roc_auc11)"
   ]
  },
  {
   "cell_type": "markdown",
   "id": "ec1efb0e",
   "metadata": {},
   "source": [
    "# 2- Logistic Regression \"Baseline number 1\""
   ]
  },
  {
   "cell_type": "code",
   "execution_count": 165,
   "id": "1c20ad5f",
   "metadata": {},
   "outputs": [
    {
     "data": {
      "text/plain": [
       "LogisticRegression()"
      ]
     },
     "execution_count": 165,
     "metadata": {},
     "output_type": "execute_result"
    }
   ],
   "source": [
    "X_train22, X_test22, y_train22, y_test22 = train_test_split(X_s, y, test_size=0.3, random_state=42, stratify=y)\n",
    "from sklearn.linear_model import LogisticRegression \n",
    "LogesticRegression_Model22 = LogisticRegression()\n",
    "LogesticRegression_Model22.fit(X_train22, y_train22)"
   ]
  },
  {
   "cell_type": "code",
   "execution_count": 166,
   "id": "4d919e86",
   "metadata": {},
   "outputs": [],
   "source": [
    "# Make predictions for test data\n",
    "y_pred22 = LogesticRegression_Model22.predict(X_test22)"
   ]
  },
  {
   "cell_type": "code",
   "execution_count": 175,
   "id": "aade4a81",
   "metadata": {},
   "outputs": [
    {
     "name": "stdout",
     "output_type": "stream",
     "text": [
      "-------------------------Logestic Regression After Standard Scaler----------------------\n",
      "Precision: 0.680672268907563\n",
      "Recall: 0.6428571428571429\n",
      "F1-score: 0.6612244897959184\n",
      "ROC-AUC: 0.7158730158730158\n"
     ]
    }
   ],
   "source": [
    "print(\"-------------------------Logestic Regression After Standard Scaler----------------------\")\n",
    "# Calculate precision\n",
    "precision22 = precision_score(y_test22, y_pred22)\n",
    "print(\"Precision:\", precision22)\n",
    "\n",
    "# Calculate recall\n",
    "recall22 = recall_score(y_test22, y_pred22)\n",
    "print(\"Recall:\", recall22)\n",
    "\n",
    "# Calculate F1-score\n",
    "f122 = f1_score(y_test22, y_pred22)\n",
    "print(\"F1-score:\", f122)\n",
    "\n",
    "# Calculate ROC-AUC\n",
    "roc_auc22 = roc_auc_score(y_test22, y_pred22)\n",
    "print(\"ROC-AUC:\", roc_auc22)"
   ]
  },
  {
   "cell_type": "markdown",
   "id": "6f06b5d8",
   "metadata": {},
   "source": [
    "# 3- Random Forest \"Baseline number 2\""
   ]
  },
  {
   "cell_type": "code",
   "execution_count": 168,
   "id": "c7a44994",
   "metadata": {},
   "outputs": [
    {
     "data": {
      "text/plain": [
       "RandomForestClassifier()"
      ]
     },
     "execution_count": 168,
     "metadata": {},
     "output_type": "execute_result"
    }
   ],
   "source": [
    "X_train33, X_test33, y_train33, y_test33 = train_test_split(X_s, y, test_size=0.3, random_state=42, stratify=y)\n",
    "from sklearn.ensemble import RandomForestClassifier\n",
    "RandomForest_Model33 = RandomForestClassifier()\n",
    "RandomForest_Model33.fit(X_train33, y_train33)"
   ]
  },
  {
   "cell_type": "code",
   "execution_count": 169,
   "id": "b5986e18",
   "metadata": {},
   "outputs": [],
   "source": [
    "# Make predictions for test data\n",
    "y_pred33 = RandomForest_Model33.predict(X_test33)"
   ]
  },
  {
   "cell_type": "code",
   "execution_count": 176,
   "id": "e64b51d2",
   "metadata": {},
   "outputs": [
    {
     "name": "stdout",
     "output_type": "stream",
     "text": [
      "-------------------------Random Forest After Standard Scaler----------------------\n",
      "Precision: 0.7132867132867133\n",
      "Recall: 0.8095238095238095\n",
      "F1-score: 0.7583643122676581\n",
      "ROC-AUC: 0.7908730158730158\n"
     ]
    }
   ],
   "source": [
    "print(\"-------------------------Random Forest After Standard Scaler----------------------\")\n",
    "# Calculate precision\n",
    "precision33 = precision_score(y_test33, y_pred33)\n",
    "print(\"Precision:\", precision33)\n",
    "\n",
    "# Calculate recall\n",
    "recall33 = recall_score(y_test33, y_pred33)\n",
    "print(\"Recall:\", recall33)\n",
    "\n",
    "# Calculate F1-score\n",
    "f133 = f1_score(y_test33, y_pred33)\n",
    "print(\"F1-score:\", f133)\n",
    "\n",
    "# Calculate ROC-AUC\n",
    "roc_auc33 = roc_auc_score(y_test33, y_pred33)\n",
    "print(\"ROC-AUC:\", roc_auc33)"
   ]
  },
  {
   "cell_type": "markdown",
   "id": "6ea08e1c",
   "metadata": {},
   "source": [
    "# 4- Decision Tree \"Baseline number 3\""
   ]
  },
  {
   "cell_type": "code",
   "execution_count": 171,
   "id": "d69efc09",
   "metadata": {},
   "outputs": [
    {
     "data": {
      "text/plain": [
       "DecisionTreeClassifier()"
      ]
     },
     "execution_count": 171,
     "metadata": {},
     "output_type": "execute_result"
    }
   ],
   "source": [
    "X_train44, X_test44, y_train44, y_test44 = train_test_split(X_s, y, test_size=0.3, random_state=42, stratify=y)\n",
    "from sklearn.tree import DecisionTreeClassifier\n",
    "DecisionTree_Model44 = DecisionTreeClassifier()\n",
    "DecisionTree_Model44.fit(X_train44, y_train44)"
   ]
  },
  {
   "cell_type": "code",
   "execution_count": 172,
   "id": "3527fb35",
   "metadata": {},
   "outputs": [],
   "source": [
    "# Make predictions for test data\n",
    "y_pred44 = DecisionTree_Model44.predict(X_test44)"
   ]
  },
  {
   "cell_type": "code",
   "execution_count": 177,
   "id": "b0c31e60",
   "metadata": {},
   "outputs": [
    {
     "name": "stdout",
     "output_type": "stream",
     "text": [
      "-------------------------Decision Tree After Standard Scaler----------------------\n",
      "Precision: 0.717948717948718\n",
      "Recall: 0.6666666666666666\n",
      "F1-score: 0.691358024691358\n",
      "ROC-AUC: 0.7416666666666666\n"
     ]
    }
   ],
   "source": [
    "print(\"-------------------------Decision Tree After Standard Scaler----------------------\")\n",
    "# Calculate precision\n",
    "precision44 = precision_score(y_test44, y_pred44)\n",
    "print(\"Precision:\", precision44)\n",
    "\n",
    "# Calculate recall\n",
    "recall44 = recall_score(y_test44, y_pred44)\n",
    "print(\"Recall:\", recall44)\n",
    "\n",
    "# Calculate F1-score\n",
    "f144 = f1_score(y_test44, y_pred44)\n",
    "print(\"F1-score:\", f144)\n",
    "\n",
    "# Calculate ROC-AUC\n",
    "roc_auc44 = roc_auc_score(y_test44, y_pred44)\n",
    "print(\"ROC-AUC:\", roc_auc44)"
   ]
  },
  {
   "cell_type": "markdown",
   "id": "58528f42",
   "metadata": {},
   "source": [
    "# Compare the outcomes pre and post StandardScaler "
   ]
  },
  {
   "attachments": {
    "Screen%20Shot%201445-10-28%20at%207.32.01%20PM.png": {
     "image/png": "[encoded data removed]"
    }
   },
   "cell_type": "markdown",
   "id": "29191a3c",
   "metadata": {},
   "source": [
    "![Screen%20Shot%201445-10-28%20at%207.32.01%20PM.png](attachment:Screen%20Shot%201445-10-28%20at%207.32.01%20PM.png)"
   ]
  },
  {
   "cell_type": "markdown",
   "id": "045b1f92",
   "metadata": {},
   "source": [
    "AdaBoost: The results remain unchanged following preprocessing."
   ]
  },
  {
   "cell_type": "markdown",
   "id": "2390d64e",
   "metadata": {},
   "source": [
    "Logistic Regression: All results showed improvement after preprocessing."
   ]
  },
  {
   "cell_type": "markdown",
   "id": "2a5f1a91",
   "metadata": {},
   "source": [
    "Random Forest: All results showed improvement after preprocessing. "
   ]
  },
  {
   "cell_type": "markdown",
   "id": "7db6c566",
   "metadata": {},
   "source": [
    "Decision Tree : All results showed improvement after preprocessing."
   ]
  },
  {
   "cell_type": "markdown",
   "id": "a61545a6",
   "metadata": {},
   "source": [
    "# Tune some parameters using GridSearchCV.\n",
    "# reporting the optimal values of each parameter for each model."
   ]
  },
  {
   "cell_type": "markdown",
   "id": "c4553e4c",
   "metadata": {},
   "source": [
    "# 1- Rebulid for AdaBoost Model"
   ]
  },
  {
   "cell_type": "code",
   "execution_count": 178,
   "id": "0beb2c36",
   "metadata": {},
   "outputs": [],
   "source": [
    "X_train5, X_test5, y_train5, y_test5 = train_test_split(X_s, y, test_size=0.3, random_state=42, stratify=y)\n",
    "AdaBoost_New = AdaBoostClassifier()\n",
    "params = {'n_estimators': [50, 100, 150], 'learning_rate': [0.1, 0.5, 1]}"
   ]
  },
  {
   "cell_type": "code",
   "execution_count": 179,
   "id": "5631f2b8",
   "metadata": {},
   "outputs": [
    {
     "data": {
      "text/plain": [
       "GridSearchCV(cv=5, estimator=AdaBoostClassifier(),\n",
       "             param_grid={'learning_rate': [0.1, 0.5, 1],\n",
       "                         'n_estimators': [50, 100, 150]})"
      ]
     },
     "execution_count": 179,
     "metadata": {},
     "output_type": "execute_result"
    }
   ],
   "source": [
    "from sklearn.model_selection import GridSearchCV\n",
    "grid = GridSearchCV(AdaBoost_New, params, cv=5)\n",
    "grid.fit(X_train5, y_train5)"
   ]
  },
  {
   "cell_type": "code",
   "execution_count": 180,
   "id": "4f6efe68",
   "metadata": {},
   "outputs": [
    {
     "name": "stdout",
     "output_type": "stream",
     "text": [
      "Best hyperparameters: {'learning_rate': 0.5, 'n_estimators': 150}\n"
     ]
    }
   ],
   "source": [
    "print('Best hyperparameters:', grid.best_params_)"
   ]
  },
  {
   "cell_type": "code",
   "execution_count": 181,
   "id": "4286df29",
   "metadata": {},
   "outputs": [
    {
     "name": "stdout",
     "output_type": "stream",
     "text": [
      "Best estimator:\n",
      "AdaBoostClassifier(learning_rate=0.5, n_estimators=150)\n"
     ]
    }
   ],
   "source": [
    "print(\"Best estimator:\\n{}\".format(grid.best_estimator_))"
   ]
  },
  {
   "cell_type": "code",
   "execution_count": 182,
   "id": "e4743013",
   "metadata": {},
   "outputs": [],
   "source": [
    "# Rebuild a model on the training set using the optimum parameters' values\n",
    "# evaluate the model on the test set\n",
    "AdaBoostNeww = grid.best_estimator_\n",
    "AdaBoostNeww.fit(X_train5, y_train5)\n",
    "y_pred5 = AdaBoostNeww.predict(X_test5)"
   ]
  },
  {
   "cell_type": "code",
   "execution_count": 183,
   "id": "7348f093",
   "metadata": {},
   "outputs": [
    {
     "name": "stdout",
     "output_type": "stream",
     "text": [
      "-------------------------AdaBoost After Optimal Values----------------------\n",
      "Precision: 0.7293233082706767\n",
      "Recall: 0.7698412698412699\n",
      "F1-score: 0.7490347490347491\n",
      "ROC-AUC: 0.784920634920635\n"
     ]
    }
   ],
   "source": [
    "print(\"-------------------------AdaBoost After Optimal Values----------------------\")\n",
    "# Calculate precision\n",
    "precision5 = precision_score(y_test5, y_pred5)\n",
    "print(\"Precision:\", precision5)\n",
    "\n",
    "# Calculate recall\n",
    "recall5 = recall_score(y_test5, y_pred5)\n",
    "print(\"Recall:\", recall5)\n",
    "\n",
    "# Calculate F1-score\n",
    "f15 = f1_score(y_test5, y_pred5)\n",
    "print(\"F1-score:\", f15)\n",
    "\n",
    "# Calculate ROC-AUC\n",
    "roc_auc5 = roc_auc_score(y_test5, y_pred5)\n",
    "print(\"ROC-AUC:\", roc_auc5)"
   ]
  },
  {
   "cell_type": "markdown",
   "id": "5a6cfd62",
   "metadata": {},
   "source": [
    "# 2- Rebulid for Logistic Regression Model"
   ]
  },
  {
   "cell_type": "code",
   "execution_count": 184,
   "id": "bef880f4",
   "metadata": {},
   "outputs": [],
   "source": [
    "X_train6, X_test6, y_train6, y_test6 = train_test_split(X_s, y, test_size=0.3, random_state=42, stratify=y)\n",
    "LogisticRegression_New = LogisticRegression()\n",
    "params2 = {'C': [0.1, 1, 10], 'penalty': ['l1', 'l2']}"
   ]
  },
  {
   "cell_type": "code",
   "execution_count": 185,
   "id": "0e324302",
   "metadata": {},
   "outputs": [
    {
     "name": "stderr",
     "output_type": "stream",
     "text": [
      "C:\\Users\\Gouda\\anaconda3\\lib\\site-packages\\sklearn\\model_selection\\_validation.py:615: FitFailedWarning: Estimator fit failed. The score on this train-test partition for these parameters will be set to nan. Details: \n",
      "Traceback (most recent call last):\n",
      "  File \"C:\\Users\\Gouda\\anaconda3\\lib\\site-packages\\sklearn\\model_selection\\_validation.py\", line 598, in _fit_and_score\n",
      "    estimator.fit(X_train, y_train, **fit_params)\n",
      "  File \"C:\\Users\\Gouda\\anaconda3\\lib\\site-packages\\sklearn\\linear_model\\_logistic.py\", line 1306, in fit\n",
      "    solver = _check_solver(self.solver, self.penalty, self.dual)\n",
      "  File \"C:\\Users\\Gouda\\anaconda3\\lib\\site-packages\\sklearn\\linear_model\\_logistic.py\", line 443, in _check_solver\n",
      "    raise ValueError(\"Solver %s supports only 'l2' or 'none' penalties, \"\n",
      "ValueError: Solver lbfgs supports only 'l2' or 'none' penalties, got l1 penalty.\n",
      "\n",
      "  warnings.warn(\"Estimator fit failed. The score on this train-test\"\n",
      "C:\\Users\\Gouda\\anaconda3\\lib\\site-packages\\sklearn\\model_selection\\_validation.py:615: FitFailedWarning: Estimator fit failed. The score on this train-test partition for these parameters will be set to nan. Details: \n",
      "Traceback (most recent call last):\n",
      "  File \"C:\\Users\\Gouda\\anaconda3\\lib\\site-packages\\sklearn\\model_selection\\_validation.py\", line 598, in _fit_and_score\n",
      "    estimator.fit(X_train, y_train, **fit_params)\n",
      "  File \"C:\\Users\\Gouda\\anaconda3\\lib\\site-packages\\sklearn\\linear_model\\_logistic.py\", line 1306, in fit\n",
      "    solver = _check_solver(self.solver, self.penalty, self.dual)\n",
      "  File \"C:\\Users\\Gouda\\anaconda3\\lib\\site-packages\\sklearn\\linear_model\\_logistic.py\", line 443, in _check_solver\n",
      "    raise ValueError(\"Solver %s supports only 'l2' or 'none' penalties, \"\n",
      "ValueError: Solver lbfgs supports only 'l2' or 'none' penalties, got l1 penalty.\n",
      "\n",
      "  warnings.warn(\"Estimator fit failed. The score on this train-test\"\n",
      "C:\\Users\\Gouda\\anaconda3\\lib\\site-packages\\sklearn\\model_selection\\_validation.py:615: FitFailedWarning: Estimator fit failed. The score on this train-test partition for these parameters will be set to nan. Details: \n",
      "Traceback (most recent call last):\n",
      "  File \"C:\\Users\\Gouda\\anaconda3\\lib\\site-packages\\sklearn\\model_selection\\_validation.py\", line 598, in _fit_and_score\n",
      "    estimator.fit(X_train, y_train, **fit_params)\n",
      "  File \"C:\\Users\\Gouda\\anaconda3\\lib\\site-packages\\sklearn\\linear_model\\_logistic.py\", line 1306, in fit\n",
      "    solver = _check_solver(self.solver, self.penalty, self.dual)\n",
      "  File \"C:\\Users\\Gouda\\anaconda3\\lib\\site-packages\\sklearn\\linear_model\\_logistic.py\", line 443, in _check_solver\n",
      "    raise ValueError(\"Solver %s supports only 'l2' or 'none' penalties, \"\n",
      "ValueError: Solver lbfgs supports only 'l2' or 'none' penalties, got l1 penalty.\n",
      "\n",
      "  warnings.warn(\"Estimator fit failed. The score on this train-test\"\n",
      "C:\\Users\\Gouda\\anaconda3\\lib\\site-packages\\sklearn\\model_selection\\_validation.py:615: FitFailedWarning: Estimator fit failed. The score on this train-test partition for these parameters will be set to nan. Details: \n",
      "Traceback (most recent call last):\n",
      "  File \"C:\\Users\\Gouda\\anaconda3\\lib\\site-packages\\sklearn\\model_selection\\_validation.py\", line 598, in _fit_and_score\n",
      "    estimator.fit(X_train, y_train, **fit_params)\n",
      "  File \"C:\\Users\\Gouda\\anaconda3\\lib\\site-packages\\sklearn\\linear_model\\_logistic.py\", line 1306, in fit\n",
      "    solver = _check_solver(self.solver, self.penalty, self.dual)\n",
      "  File \"C:\\Users\\Gouda\\anaconda3\\lib\\site-packages\\sklearn\\linear_model\\_logistic.py\", line 443, in _check_solver\n",
      "    raise ValueError(\"Solver %s supports only 'l2' or 'none' penalties, \"\n",
      "ValueError: Solver lbfgs supports only 'l2' or 'none' penalties, got l1 penalty.\n",
      "\n",
      "  warnings.warn(\"Estimator fit failed. The score on this train-test\"\n",
      "C:\\Users\\Gouda\\anaconda3\\lib\\site-packages\\sklearn\\model_selection\\_validation.py:615: FitFailedWarning: Estimator fit failed. The score on this train-test partition for these parameters will be set to nan. Details: \n",
      "Traceback (most recent call last):\n",
      "  File \"C:\\Users\\Gouda\\anaconda3\\lib\\site-packages\\sklearn\\model_selection\\_validation.py\", line 598, in _fit_and_score\n",
      "    estimator.fit(X_train, y_train, **fit_params)\n",
      "  File \"C:\\Users\\Gouda\\anaconda3\\lib\\site-packages\\sklearn\\linear_model\\_logistic.py\", line 1306, in fit\n",
      "    solver = _check_solver(self.solver, self.penalty, self.dual)\n",
      "  File \"C:\\Users\\Gouda\\anaconda3\\lib\\site-packages\\sklearn\\linear_model\\_logistic.py\", line 443, in _check_solver\n",
      "    raise ValueError(\"Solver %s supports only 'l2' or 'none' penalties, \"\n",
      "ValueError: Solver lbfgs supports only 'l2' or 'none' penalties, got l1 penalty.\n",
      "\n",
      "  warnings.warn(\"Estimator fit failed. The score on this train-test\"\n",
      "C:\\Users\\Gouda\\anaconda3\\lib\\site-packages\\sklearn\\model_selection\\_validation.py:615: FitFailedWarning: Estimator fit failed. The score on this train-test partition for these parameters will be set to nan. Details: \n",
      "Traceback (most recent call last):\n",
      "  File \"C:\\Users\\Gouda\\anaconda3\\lib\\site-packages\\sklearn\\model_selection\\_validation.py\", line 598, in _fit_and_score\n",
      "    estimator.fit(X_train, y_train, **fit_params)\n",
      "  File \"C:\\Users\\Gouda\\anaconda3\\lib\\site-packages\\sklearn\\linear_model\\_logistic.py\", line 1306, in fit\n",
      "    solver = _check_solver(self.solver, self.penalty, self.dual)\n",
      "  File \"C:\\Users\\Gouda\\anaconda3\\lib\\site-packages\\sklearn\\linear_model\\_logistic.py\", line 443, in _check_solver\n",
      "    raise ValueError(\"Solver %s supports only 'l2' or 'none' penalties, \"\n",
      "ValueError: Solver lbfgs supports only 'l2' or 'none' penalties, got l1 penalty.\n",
      "\n",
      "  warnings.warn(\"Estimator fit failed. The score on this train-test\"\n",
      "C:\\Users\\Gouda\\anaconda3\\lib\\site-packages\\sklearn\\model_selection\\_validation.py:615: FitFailedWarning: Estimator fit failed. The score on this train-test partition for these parameters will be set to nan. Details: \n",
      "Traceback (most recent call last):\n",
      "  File \"C:\\Users\\Gouda\\anaconda3\\lib\\site-packages\\sklearn\\model_selection\\_validation.py\", line 598, in _fit_and_score\n",
      "    estimator.fit(X_train, y_train, **fit_params)\n",
      "  File \"C:\\Users\\Gouda\\anaconda3\\lib\\site-packages\\sklearn\\linear_model\\_logistic.py\", line 1306, in fit\n",
      "    solver = _check_solver(self.solver, self.penalty, self.dual)\n",
      "  File \"C:\\Users\\Gouda\\anaconda3\\lib\\site-packages\\sklearn\\linear_model\\_logistic.py\", line 443, in _check_solver\n",
      "    raise ValueError(\"Solver %s supports only 'l2' or 'none' penalties, \"\n",
      "ValueError: Solver lbfgs supports only 'l2' or 'none' penalties, got l1 penalty.\n",
      "\n",
      "  warnings.warn(\"Estimator fit failed. The score on this train-test\"\n",
      "C:\\Users\\Gouda\\anaconda3\\lib\\site-packages\\sklearn\\model_selection\\_validation.py:615: FitFailedWarning: Estimator fit failed. The score on this train-test partition for these parameters will be set to nan. Details: \n",
      "Traceback (most recent call last):\n",
      "  File \"C:\\Users\\Gouda\\anaconda3\\lib\\site-packages\\sklearn\\model_selection\\_validation.py\", line 598, in _fit_and_score\n",
      "    estimator.fit(X_train, y_train, **fit_params)\n",
      "  File \"C:\\Users\\Gouda\\anaconda3\\lib\\site-packages\\sklearn\\linear_model\\_logistic.py\", line 1306, in fit\n",
      "    solver = _check_solver(self.solver, self.penalty, self.dual)\n",
      "  File \"C:\\Users\\Gouda\\anaconda3\\lib\\site-packages\\sklearn\\linear_model\\_logistic.py\", line 443, in _check_solver\n",
      "    raise ValueError(\"Solver %s supports only 'l2' or 'none' penalties, \"\n",
      "ValueError: Solver lbfgs supports only 'l2' or 'none' penalties, got l1 penalty.\n",
      "\n",
      "  warnings.warn(\"Estimator fit failed. The score on this train-test\"\n",
      "C:\\Users\\Gouda\\anaconda3\\lib\\site-packages\\sklearn\\model_selection\\_validation.py:615: FitFailedWarning: Estimator fit failed. The score on this train-test partition for these parameters will be set to nan. Details: \n",
      "Traceback (most recent call last):\n",
      "  File \"C:\\Users\\Gouda\\anaconda3\\lib\\site-packages\\sklearn\\model_selection\\_validation.py\", line 598, in _fit_and_score\n",
      "    estimator.fit(X_train, y_train, **fit_params)\n",
      "  File \"C:\\Users\\Gouda\\anaconda3\\lib\\site-packages\\sklearn\\linear_model\\_logistic.py\", line 1306, in fit\n",
      "    solver = _check_solver(self.solver, self.penalty, self.dual)\n",
      "  File \"C:\\Users\\Gouda\\anaconda3\\lib\\site-packages\\sklearn\\linear_model\\_logistic.py\", line 443, in _check_solver\n",
      "    raise ValueError(\"Solver %s supports only 'l2' or 'none' penalties, \"\n",
      "ValueError: Solver lbfgs supports only 'l2' or 'none' penalties, got l1 penalty.\n",
      "\n",
      "  warnings.warn(\"Estimator fit failed. The score on this train-test\"\n",
      "C:\\Users\\Gouda\\anaconda3\\lib\\site-packages\\sklearn\\model_selection\\_validation.py:615: FitFailedWarning: Estimator fit failed. The score on this train-test partition for these parameters will be set to nan. Details: \n",
      "Traceback (most recent call last):\n",
      "  File \"C:\\Users\\Gouda\\anaconda3\\lib\\site-packages\\sklearn\\model_selection\\_validation.py\", line 598, in _fit_and_score\n",
      "    estimator.fit(X_train, y_train, **fit_params)\n",
      "  File \"C:\\Users\\Gouda\\anaconda3\\lib\\site-packages\\sklearn\\linear_model\\_logistic.py\", line 1306, in fit\n",
      "    solver = _check_solver(self.solver, self.penalty, self.dual)\n",
      "  File \"C:\\Users\\Gouda\\anaconda3\\lib\\site-packages\\sklearn\\linear_model\\_logistic.py\", line 443, in _check_solver\n",
      "    raise ValueError(\"Solver %s supports only 'l2' or 'none' penalties, \"\n",
      "ValueError: Solver lbfgs supports only 'l2' or 'none' penalties, got l1 penalty.\n",
      "\n",
      "  warnings.warn(\"Estimator fit failed. The score on this train-test\"\n",
      "C:\\Users\\Gouda\\anaconda3\\lib\\site-packages\\sklearn\\model_selection\\_validation.py:615: FitFailedWarning: Estimator fit failed. The score on this train-test partition for these parameters will be set to nan. Details: \n",
      "Traceback (most recent call last):\n",
      "  File \"C:\\Users\\Gouda\\anaconda3\\lib\\site-packages\\sklearn\\model_selection\\_validation.py\", line 598, in _fit_and_score\n",
      "    estimator.fit(X_train, y_train, **fit_params)\n",
      "  File \"C:\\Users\\Gouda\\anaconda3\\lib\\site-packages\\sklearn\\linear_model\\_logistic.py\", line 1306, in fit\n",
      "    solver = _check_solver(self.solver, self.penalty, self.dual)\n",
      "  File \"C:\\Users\\Gouda\\anaconda3\\lib\\site-packages\\sklearn\\linear_model\\_logistic.py\", line 443, in _check_solver\n",
      "    raise ValueError(\"Solver %s supports only 'l2' or 'none' penalties, \"\n",
      "ValueError: Solver lbfgs supports only 'l2' or 'none' penalties, got l1 penalty.\n",
      "\n",
      "  warnings.warn(\"Estimator fit failed. The score on this train-test\"\n",
      "C:\\Users\\Gouda\\anaconda3\\lib\\site-packages\\sklearn\\model_selection\\_validation.py:615: FitFailedWarning: Estimator fit failed. The score on this train-test partition for these parameters will be set to nan. Details: \n",
      "Traceback (most recent call last):\n",
      "  File \"C:\\Users\\Gouda\\anaconda3\\lib\\site-packages\\sklearn\\model_selection\\_validation.py\", line 598, in _fit_and_score\n",
      "    estimator.fit(X_train, y_train, **fit_params)\n",
      "  File \"C:\\Users\\Gouda\\anaconda3\\lib\\site-packages\\sklearn\\linear_model\\_logistic.py\", line 1306, in fit\n",
      "    solver = _check_solver(self.solver, self.penalty, self.dual)\n",
      "  File \"C:\\Users\\Gouda\\anaconda3\\lib\\site-packages\\sklearn\\linear_model\\_logistic.py\", line 443, in _check_solver\n",
      "    raise ValueError(\"Solver %s supports only 'l2' or 'none' penalties, \"\n",
      "ValueError: Solver lbfgs supports only 'l2' or 'none' penalties, got l1 penalty.\n",
      "\n",
      "  warnings.warn(\"Estimator fit failed. The score on this train-test\"\n",
      "C:\\Users\\Gouda\\anaconda3\\lib\\site-packages\\sklearn\\model_selection\\_validation.py:615: FitFailedWarning: Estimator fit failed. The score on this train-test partition for these parameters will be set to nan. Details: \n",
      "Traceback (most recent call last):\n",
      "  File \"C:\\Users\\Gouda\\anaconda3\\lib\\site-packages\\sklearn\\model_selection\\_validation.py\", line 598, in _fit_and_score\n",
      "    estimator.fit(X_train, y_train, **fit_params)\n",
      "  File \"C:\\Users\\Gouda\\anaconda3\\lib\\site-packages\\sklearn\\linear_model\\_logistic.py\", line 1306, in fit\n",
      "    solver = _check_solver(self.solver, self.penalty, self.dual)\n",
      "  File \"C:\\Users\\Gouda\\anaconda3\\lib\\site-packages\\sklearn\\linear_model\\_logistic.py\", line 443, in _check_solver\n",
      "    raise ValueError(\"Solver %s supports only 'l2' or 'none' penalties, \"\n",
      "ValueError: Solver lbfgs supports only 'l2' or 'none' penalties, got l1 penalty.\n",
      "\n",
      "  warnings.warn(\"Estimator fit failed. The score on this train-test\"\n",
      "C:\\Users\\Gouda\\anaconda3\\lib\\site-packages\\sklearn\\model_selection\\_validation.py:615: FitFailedWarning: Estimator fit failed. The score on this train-test partition for these parameters will be set to nan. Details: \n",
      "Traceback (most recent call last):\n",
      "  File \"C:\\Users\\Gouda\\anaconda3\\lib\\site-packages\\sklearn\\model_selection\\_validation.py\", line 598, in _fit_and_score\n",
      "    estimator.fit(X_train, y_train, **fit_params)\n",
      "  File \"C:\\Users\\Gouda\\anaconda3\\lib\\site-packages\\sklearn\\linear_model\\_logistic.py\", line 1306, in fit\n",
      "    solver = _check_solver(self.solver, self.penalty, self.dual)\n",
      "  File \"C:\\Users\\Gouda\\anaconda3\\lib\\site-packages\\sklearn\\linear_model\\_logistic.py\", line 443, in _check_solver\n",
      "    raise ValueError(\"Solver %s supports only 'l2' or 'none' penalties, \"\n",
      "ValueError: Solver lbfgs supports only 'l2' or 'none' penalties, got l1 penalty.\n",
      "\n",
      "  warnings.warn(\"Estimator fit failed. The score on this train-test\"\n",
      "C:\\Users\\Gouda\\anaconda3\\lib\\site-packages\\sklearn\\model_selection\\_validation.py:615: FitFailedWarning: Estimator fit failed. The score on this train-test partition for these parameters will be set to nan. Details: \n",
      "Traceback (most recent call last):\n",
      "  File \"C:\\Users\\Gouda\\anaconda3\\lib\\site-packages\\sklearn\\model_selection\\_validation.py\", line 598, in _fit_and_score\n",
      "    estimator.fit(X_train, y_train, **fit_params)\n",
      "  File \"C:\\Users\\Gouda\\anaconda3\\lib\\site-packages\\sklearn\\linear_model\\_logistic.py\", line 1306, in fit\n",
      "    solver = _check_solver(self.solver, self.penalty, self.dual)\n",
      "  File \"C:\\Users\\Gouda\\anaconda3\\lib\\site-packages\\sklearn\\linear_model\\_logistic.py\", line 443, in _check_solver\n",
      "    raise ValueError(\"Solver %s supports only 'l2' or 'none' penalties, \"\n",
      "ValueError: Solver lbfgs supports only 'l2' or 'none' penalties, got l1 penalty.\n",
      "\n",
      "  warnings.warn(\"Estimator fit failed. The score on this train-test\"\n",
      "C:\\Users\\Gouda\\anaconda3\\lib\\site-packages\\sklearn\\model_selection\\_search.py:922: UserWarning: One or more of the test scores are non-finite: [       nan 0.75805181        nan 0.76226731        nan 0.76648281]\n",
      "  warnings.warn(\n"
     ]
    },
    {
     "data": {
      "text/plain": [
       "GridSearchCV(cv=5, estimator=LogisticRegression(),\n",
       "             param_grid={'C': [0.1, 1, 10], 'penalty': ['l1', 'l2']})"
      ]
     },
     "execution_count": 185,
     "metadata": {},
     "output_type": "execute_result"
    }
   ],
   "source": [
    "grid2 = GridSearchCV(LogisticRegression_New, params2, cv=5)\n",
    "grid2.fit(X_train6, y_train6)"
   ]
  },
  {
   "cell_type": "code",
   "execution_count": 186,
   "id": "377b779c",
   "metadata": {},
   "outputs": [
    {
     "name": "stdout",
     "output_type": "stream",
     "text": [
      "Best hyperparameters: {'C': 10, 'penalty': 'l2'}\n"
     ]
    }
   ],
   "source": [
    "print('Best hyperparameters:', grid2.best_params_)"
   ]
  },
  {
   "cell_type": "code",
   "execution_count": 187,
   "id": "b650ffc1",
   "metadata": {},
   "outputs": [
    {
     "name": "stdout",
     "output_type": "stream",
     "text": [
      "Best estimator:\n",
      "LogisticRegression(C=10)\n"
     ]
    }
   ],
   "source": [
    "print(\"Best estimator:\\n{}\".format(grid2.best_estimator_))"
   ]
  },
  {
   "cell_type": "code",
   "execution_count": 188,
   "id": "95398c6b",
   "metadata": {},
   "outputs": [],
   "source": [
    "# Rebuild a model on the training set using the optimum parameters' values\n",
    "# evaluate the model on the test set\n",
    "LogisticNeww = grid2.best_estimator_\n",
    "LogisticNeww.fit(X_train6, y_train6)\n",
    "y_pred6 = LogisticNeww.predict(X_test6)"
   ]
  },
  {
   "cell_type": "code",
   "execution_count": 189,
   "id": "87d636cc",
   "metadata": {},
   "outputs": [
    {
     "name": "stdout",
     "output_type": "stream",
     "text": [
      "-------------------------Logistic Regression After Optimal Values----------------------\n",
      "Precision: 0.7265625\n",
      "Recall: 0.7380952380952381\n",
      "F1-score: 0.7322834645669293\n",
      "ROC-AUC: 0.732936507936508\n"
     ]
    }
   ],
   "source": [
    "print(\"-------------------------Logistic Regression After Optimal Values----------------------\")\n",
    "# Calculate precision\n",
    "precision6 = precision_score(y_test6, y_pred6)\n",
    "print(\"Precision:\", precision)\n",
    "\n",
    "# Calculate recall\n",
    "recall6 = recall_score(y_test6, y_pred6)\n",
    "print(\"Recall:\", recall)\n",
    "\n",
    "# Calculate F1-score\n",
    "f16 = f1_score(y_test6, y_pred6)\n",
    "print(\"F1-score:\", f1)\n",
    "\n",
    "# Calculate ROC-AUC\n",
    "roc_auc6 = roc_auc_score(y_test6, y_pred6)\n",
    "print(\"ROC-AUC:\", roc_auc6)"
   ]
  },
  {
   "cell_type": "markdown",
   "id": "c1de4fa2",
   "metadata": {},
   "source": [
    "# 3- Rebulid for Random Forest Model"
   ]
  },
  {
   "cell_type": "code",
   "execution_count": 190,
   "id": "90f054eb",
   "metadata": {},
   "outputs": [],
   "source": [
    "X_train7, X_test7, y_train7, y_test7 = train_test_split(X_s, y, test_size=0.3, random_state=42, stratify=y)\n",
    "RandomForest_New = RandomForestClassifier(random_state=42)\n",
    "params3 = {'n_estimators': [10, 50, 100, 200],\n",
    "          'max_depth': [None, 10, 20, 30],\n",
    "          'min_samples_split': [2, 5, 10],\n",
    "          'min_samples_leaf': [1, 2, 4]}"
   ]
  },
  {
   "cell_type": "code",
   "execution_count": 191,
   "id": "500660c9",
   "metadata": {},
   "outputs": [
    {
     "data": {
      "text/plain": [
       "GridSearchCV(cv=5, estimator=RandomForestClassifier(random_state=42),\n",
       "             param_grid={'max_depth': [None, 10, 20, 30],\n",
       "                         'min_samples_leaf': [1, 2, 4],\n",
       "                         'min_samples_split': [2, 5, 10],\n",
       "                         'n_estimators': [10, 50, 100, 200]})"
      ]
     },
     "execution_count": 191,
     "metadata": {},
     "output_type": "execute_result"
    }
   ],
   "source": [
    "grid3 = GridSearchCV(estimator=RandomForest_New, param_grid=params3, cv=5)\n",
    "grid3.fit(X_train7, y_train7)"
   ]
  },
  {
   "cell_type": "code",
   "execution_count": 192,
   "id": "25ad4ab0",
   "metadata": {},
   "outputs": [
    {
     "name": "stdout",
     "output_type": "stream",
     "text": [
      "Best hyperparameters: {'max_depth': 20, 'min_samples_leaf': 1, 'min_samples_split': 2, 'n_estimators': 50}\n"
     ]
    }
   ],
   "source": [
    "print('Best hyperparameters:', grid3.best_params_)"
   ]
  },
  {
   "cell_type": "code",
   "execution_count": 193,
   "id": "6a1f3c1e",
   "metadata": {},
   "outputs": [
    {
     "name": "stdout",
     "output_type": "stream",
     "text": [
      "Best estimator:\n",
      "RandomForestClassifier(max_depth=20, n_estimators=50, random_state=42)\n"
     ]
    }
   ],
   "source": [
    "print(\"Best estimator:\\n{}\".format(grid3.best_estimator_))"
   ]
  },
  {
   "cell_type": "code",
   "execution_count": 194,
   "id": "4e1b5e0e",
   "metadata": {},
   "outputs": [],
   "source": [
    "# Rebuild a model on the training set using the optimum parameters' values\n",
    "# evaluate the model on the test set\n",
    "RFNew = grid3.best_estimator_\n",
    "RFNew.fit(X_train7, y_train7)\n",
    "y_pred7 = RFNew.predict(X_test7)"
   ]
  },
  {
   "cell_type": "code",
   "execution_count": 195,
   "id": "2e8871ac",
   "metadata": {},
   "outputs": [
    {
     "name": "stdout",
     "output_type": "stream",
     "text": [
      "-------------------------Random Forest After Optimal Values----------------------\n",
      "Precision: 0.684931506849315\n",
      "Recall: 0.7936507936507936\n",
      "F1-score: 0.7352941176470589\n",
      "ROC-AUC: 0.769047619047619\n"
     ]
    }
   ],
   "source": [
    "print(\"-------------------------Random Forest After Optimal Values----------------------\")\n",
    "# Calculate precision\n",
    "precision7 = precision_score(y_test7, y_pred7)\n",
    "print(\"Precision:\", precision7)\n",
    "\n",
    "# Calculate recall\n",
    "recall7 = recall_score(y_test7, y_pred7)\n",
    "print(\"Recall:\", recall7)\n",
    "\n",
    "# Calculate F1-score\n",
    "f17 = f1_score(y_test7, y_pred7)\n",
    "print(\"F1-score:\", f17)\n",
    "\n",
    "# Calculate ROC-AUC\n",
    "roc_auc7 = roc_auc_score(y_test7, y_pred7)\n",
    "print(\"ROC-AUC:\", roc_auc7)"
   ]
  },
  {
   "cell_type": "markdown",
   "id": "98675196",
   "metadata": {},
   "source": [
    "# 4- Rebulid for Decision Tree Model"
   ]
  },
  {
   "cell_type": "code",
   "execution_count": 197,
   "id": "a4e2a842",
   "metadata": {},
   "outputs": [],
   "source": [
    "X_train8, X_test8, y_train8, y_test8 = train_test_split(X_s, y, test_size=0.3, random_state=42, stratify=y)\n",
    "dt = DecisionTreeClassifier(random_state=42)\n",
    "params4 = {'max_depth': [None, 10, 20, 30],\n",
    "          'min_samples_split': [2, 5, 10],\n",
    "          'min_samples_leaf': [1, 2, 4],\n",
    "          'criterion': ['gini', 'entropy']}"
   ]
  },
  {
   "cell_type": "code",
   "execution_count": 198,
   "id": "df4a25ec",
   "metadata": {},
   "outputs": [
    {
     "data": {
      "text/plain": [
       "GridSearchCV(cv=5, estimator=DecisionTreeClassifier(random_state=42),\n",
       "             param_grid={'criterion': ['gini', 'entropy'],\n",
       "                         'max_depth': [None, 10, 20, 30],\n",
       "                         'min_samples_leaf': [1, 2, 4],\n",
       "                         'min_samples_split': [2, 5, 10]})"
      ]
     },
     "execution_count": 198,
     "metadata": {},
     "output_type": "execute_result"
    }
   ],
   "source": [
    "grid4 = GridSearchCV(estimator=dt, param_grid=params4, cv=5)\n",
    "grid4.fit(X_train8, y_train8)"
   ]
  },
  {
   "cell_type": "code",
   "execution_count": 199,
   "id": "911331be",
   "metadata": {},
   "outputs": [
    {
     "name": "stdout",
     "output_type": "stream",
     "text": [
      "Best hyperparameters: {'criterion': 'gini', 'max_depth': None, 'min_samples_leaf': 4, 'min_samples_split': 2}\n"
     ]
    }
   ],
   "source": [
    "print('Best hyperparameters:', grid4.best_params_)"
   ]
  },
  {
   "cell_type": "code",
   "execution_count": 200,
   "id": "8f6acb19",
   "metadata": {},
   "outputs": [
    {
     "name": "stdout",
     "output_type": "stream",
     "text": [
      "Best estimator:\n",
      "DecisionTreeClassifier(min_samples_leaf=4, random_state=42)\n"
     ]
    }
   ],
   "source": [
    "print(\"Best estimator:\\n{}\".format(grid4.best_estimator_))"
   ]
  },
  {
   "cell_type": "code",
   "execution_count": 201,
   "id": "0195cd83",
   "metadata": {},
   "outputs": [],
   "source": [
    "# Rebuild a model on the training set using the optimum parameters' values\n",
    "# evaluate the model on the test set\n",
    "DTNeww = grid4.best_estimator_\n",
    "DTNeww.fit(X_train8, y_train8)\n",
    "y_pred8 = DTNeww.predict(X_test8)"
   ]
  },
  {
   "cell_type": "code",
   "execution_count": 202,
   "id": "40fdd665",
   "metadata": {},
   "outputs": [
    {
     "name": "stdout",
     "output_type": "stream",
     "text": [
      "-------------------------Decision Tree After Optimal Values----------------------\n",
      "Precision: 0.6923076923076923\n",
      "Recall: 0.6428571428571429\n",
      "F1-score: 0.6666666666666666\n",
      "ROC-AUC: 0.7214285714285714\n"
     ]
    }
   ],
   "source": [
    "print(\"-------------------------Decision Tree After Optimal Values----------------------\")\n",
    "# Calculate precision\n",
    "precision8 = precision_score(y_test8, y_pred8)\n",
    "print(\"Precision:\", precision8)\n",
    "\n",
    "# Calculate recall\n",
    "recall8 = recall_score(y_test8, y_pred8)\n",
    "print(\"Recall:\", recall8)\n",
    "\n",
    "# Calculate F1-score\n",
    "f18 = f1_score(y_test8, y_pred8)\n",
    "print(\"F1-score:\", f18)\n",
    "\n",
    "# Calculate ROC-AUC\n",
    "roc_auc8 = roc_auc_score(y_test8, y_pred8)\n",
    "print(\"ROC-AUC:\", roc_auc8)"
   ]
  },
  {
   "cell_type": "markdown",
   "id": "e0fc8a56",
   "metadata": {},
   "source": [
    "# Compare the performance for the four models using default parameter values and after tuning some parameters"
   ]
  },
  {
   "attachments": {
    "Screen%20Shot%201445-10-28%20at%207.43.41%20PM.png": {
     "image/png": "[encoded data removed]"
    }
   },
   "cell_type": "markdown",
   "id": "3637d0a7",
   "metadata": {},
   "source": [
    "# ![Screen%20Shot%201445-10-28%20at%207.43.41%20PM.png](attachment:Screen%20Shot%201445-10-28%20at%207.43.41%20PM.png)"
   ]
  },
  {
   "cell_type": "markdown",
   "id": "d6a4a25e",
   "metadata": {},
   "source": [
    "# AdaBoost"
   ]
  },
  {
   "cell_type": "markdown",
   "id": "412c678d",
   "metadata": {},
   "source": [
    "The improvements in recall, F1-Score, and ROC-AUC suggest that parameter tuning has enhanced the model's \n",
    "performance, particularly in correctly identifying true positives and in its ability to discriminate between positive and negative classes.\n",
    "While precision remained the same, it didn't decrease, indicating that the tuning didn't \n",
    "negatively impact the model's ability to make accurate positive predictions."
   ]
  },
  {
   "cell_type": "markdown",
   "id": "60263acd",
   "metadata": {},
   "source": [
    "# Logistic Regression"
   ]
  },
  {
   "cell_type": "markdown",
   "id": "4f574603",
   "metadata": {},
   "source": [
    "The improvements in precision, recall, F1-Score and ROC-AUC suggest that tuning the parameters of the Logistic \n",
    "Regression model has led to better performance, particularly in accurately identifying true positives."
   ]
  },
  {
   "cell_type": "markdown",
   "id": "a2d82fdf",
   "metadata": {},
   "source": [
    "# Random Forest"
   ]
  },
  {
   "cell_type": "markdown",
   "id": "354c830c",
   "metadata": {},
   "source": [
    "Based on these results, it seems that parameter tuning did not have a positive impact on the performance of \n",
    "the Random Forest model.\n",
    "The precision, recall, F1-Score, and ROC-AUC performance seemed to drop."
   ]
  },
  {
   "cell_type": "markdown",
   "id": "13f15a11",
   "metadata": {},
   "source": [
    "# Decision Tree"
   ]
  },
  {
   "cell_type": "markdown",
   "id": "6263fc29",
   "metadata": {},
   "source": [
    "Based on these results, it seems that parameter tuning also did not lead to an improvement in the performance of \n",
    "the Decision Tree model. In fact, there was a slight decrease in precision, recall, F1-Score, and ROC-AUC after\n",
    "tuning the parameters."
   ]
  },
  {
   "cell_type": "markdown",
   "id": "3c30b5a1",
   "metadata": {},
   "source": [
    "# * Overall Conclusion *"
   ]
  },
  {
   "cell_type": "markdown",
   "id": "14a2979e",
   "metadata": {},
   "source": [
    "In summary, the performance of different models varied following parameter tuning. AdaBoost showed improvement in key metrics such as recall, F1-Score, and ROC-AUC, indicating enhanced ability in correctly identifying true positives and class discrimination. Logistic Regression demonstrated significant enhancements across precision, recall, F1-Score, and ROC-AUC, particularly in accurately identifying true positives. Conversely, both Random Forest and Decision Tree models did not benefit from parameter tuning, as evidenced by a decline in precision, recall, F1-Score, and ROC-AUC metrics, indicating no improvement in performance."
   ]
  },
  {
   "cell_type": "markdown",
   "id": "1e2c38d9",
   "metadata": {},
   "source": [
    "# Confusion Matrix for AdaBoost Model after tunning"
   ]
  },
  {
   "cell_type": "code",
   "execution_count": 29,
   "id": "f5fd2d7d",
   "metadata": {},
   "outputs": [
    {
     "data": {
      "image/png": "[encoded data removed]",
      "text/plain": [
       "<Figure size 432x288 with 2 Axes>"
      ]
     },
     "metadata": {
      "needs_background": "light"
     },
     "output_type": "display_data"
    }
   ],
   "source": [
    "# Visualize confusion matrix\n",
    "result2 = confusion_matrix(y_test5, y_pred5)\n",
    "sns.heatmap(result2, annot=True, cmap='Purples', fmt=\"g\", linewidth=2)\n",
    "plt.xlabel('Predicted labels')\n",
    "plt.ylabel('True labels')\n",
    "plt.show()"
   ]
  },
  {
   "cell_type": "markdown",
   "id": "02e1ff84",
   "metadata": {},
   "source": [
    "In the provided confusion matrix, with \"0\" representing \"not hazard\" and \"1\" denoting \"hazard\", we observed 97 True Positives (TP) where both the predicted and actual values indicated \"hazard\". Additionally, there were 144 True Negatives (TN) where both predicted and actual values were \"not hazard\". Furthermore, 36 False Positives (FP) occurred, indicating instances where predicted values were \"hazard\" but actual values were \" not hazard\". Finally, there were 29 False Negatives (FN), representing cases where predicted values were \"not hazard\" while actual values were \"hazard\"."
   ]
  },
  {
   "cell_type": "markdown",
   "id": "96d10e2b",
   "metadata": {},
   "source": [
    "# Thank You!"
   ]
  }
 ],
 "metadata": {
  "kernelspec": {
   "display_name": "Python 3 (ipykernel)",
   "language": "python",
   "name": "python3"
  },
  "language_info": {
   "codemirror_mode": {
    "name": "ipython",
    "version": 3
   },
   "file_extension": ".py",
   "mimetype": "text/x-python",
   "name": "python",
   "nbconvert_exporter": "python",
   "pygments_lexer": "ipython3",
   "version": "3.11.3"
  }
 },
 "nbformat": 4,
 "nbformat_minor": 5
}
